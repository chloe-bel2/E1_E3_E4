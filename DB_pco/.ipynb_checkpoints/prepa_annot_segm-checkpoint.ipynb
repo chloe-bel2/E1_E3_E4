{
 "cells": [
  {
   "cell_type": "code",
   "execution_count": 8,
   "metadata": {},
   "outputs": [],
   "source": [
    "import pandas as pd\n",
    "from sqlalchemy import create_engine\n",
    "import numpy as np\n",
    "pd.set_option('display.max_colwidth', None)\n",
    "\n",
    "import spacy\n",
    "from spacy.lang.fr.examples import sentences\n",
    "from spacy.lang.fr import French\n",
    "\n",
    "import re"
   ]
  },
  {
   "cell_type": "code",
   "execution_count": 2,
   "metadata": {},
   "outputs": [],
   "source": [
    "# Connexion à db_pco\n",
    "user = 'postgres'  \n",
    "password = 'postgre'\n",
    "host = 'localhost'               \n",
    "port = '5432'                    \n",
    "database = 'db_pco'              \n",
    "\n",
    "# Objet engine pour gérer la connexion\n",
    "engine = create_engine(f'postgresql+psycopg2://{user}:{password}@{host}:{port}/{database}')"
   ]
  },
  {
   "cell_type": "code",
   "execution_count": 3,
   "metadata": {},
   "outputs": [],
   "source": [
    "query = \"SELECT * FROM offres_emploi ORDER BY RANDOM() LIMIT 150\"\n",
    "df = pd.read_sql(query, con=engine)"
   ]
  },
  {
   "cell_type": "code",
   "execution_count": 4,
   "metadata": {},
   "outputs": [
    {
     "data": {
      "text/html": [
       "<div>\n",
       "<style scoped>\n",
       "    .dataframe tbody tr th:only-of-type {\n",
       "        vertical-align: middle;\n",
       "    }\n",
       "\n",
       "    .dataframe tbody tr th {\n",
       "        vertical-align: top;\n",
       "    }\n",
       "\n",
       "    .dataframe thead th {\n",
       "        text-align: right;\n",
       "    }\n",
       "</style>\n",
       "<table border=\"1\" class=\"dataframe\">\n",
       "  <thead>\n",
       "    <tr style=\"text-align: right;\">\n",
       "      <th></th>\n",
       "      <th>ref_offre</th>\n",
       "      <th>descri_mission</th>\n",
       "    </tr>\n",
       "  </thead>\n",
       "  <tbody>\n",
       "    <tr>\n",
       "      <th>0</th>\n",
       "      <td>2165625</td>\n",
       "      <td>Recherche: CHEF D'ÉQUIPE MAINTENANCE (H/F)\\nMy...</td>\n",
       "    </tr>\n",
       "    <tr>\n",
       "      <th>1</th>\n",
       "      <td>7252893</td>\n",
       "      <td>à propos de l'entreprise\\nVous recherchez un e...</td>\n",
       "    </tr>\n",
       "    <tr>\n",
       "      <th>2</th>\n",
       "      <td>8052910</td>\n",
       "      <td>Description du poste :\\nAlimentation des ligne...</td>\n",
       "    </tr>\n",
       "    <tr>\n",
       "      <th>3</th>\n",
       "      <td>3977666</td>\n",
       "      <td>Description du poste :\\nVous êtes un(e) vérita...</td>\n",
       "    </tr>\n",
       "    <tr>\n",
       "      <th>4</th>\n",
       "      <td>5955763</td>\n",
       "      <td>Acteur Régional du Travail Temporaire depuis 2...</td>\n",
       "    </tr>\n",
       "    <tr>\n",
       "      <th>...</th>\n",
       "      <td>...</td>\n",
       "      <td>...</td>\n",
       "    </tr>\n",
       "    <tr>\n",
       "      <th>145</th>\n",
       "      <td>9055739</td>\n",
       "      <td>Recherche: - POURVU - ALTERNANCE - MOTION DESI...</td>\n",
       "    </tr>\n",
       "    <tr>\n",
       "      <th>146</th>\n",
       "      <td>7462065</td>\n",
       "      <td>Nous recherchons pour l'un de nos clients situ...</td>\n",
       "    </tr>\n",
       "    <tr>\n",
       "      <th>147</th>\n",
       "      <td>7915280</td>\n",
       "      <td>Au sein du Groupe Interaction, nous proposons ...</td>\n",
       "    </tr>\n",
       "    <tr>\n",
       "      <th>148</th>\n",
       "      <td>516789</td>\n",
       "      <td>Notre métier, c'est l'emploi. Des milliers d'o...</td>\n",
       "    </tr>\n",
       "    <tr>\n",
       "      <th>149</th>\n",
       "      <td>8519063</td>\n",
       "      <td>A votre écoute, nous avons pour objectif de vo...</td>\n",
       "    </tr>\n",
       "  </tbody>\n",
       "</table>\n",
       "<p>150 rows × 2 columns</p>\n",
       "</div>"
      ],
      "text/plain": [
       "    ref_offre                                     descri_mission\n",
       "0     2165625  Recherche: CHEF D'ÉQUIPE MAINTENANCE (H/F)\\nMy...\n",
       "1     7252893  à propos de l'entreprise\\nVous recherchez un e...\n",
       "2     8052910  Description du poste :\\nAlimentation des ligne...\n",
       "3     3977666  Description du poste :\\nVous êtes un(e) vérita...\n",
       "4     5955763  Acteur Régional du Travail Temporaire depuis 2...\n",
       "..        ...                                                ...\n",
       "145   9055739  Recherche: - POURVU - ALTERNANCE - MOTION DESI...\n",
       "146   7462065  Nous recherchons pour l'un de nos clients situ...\n",
       "147   7915280  Au sein du Groupe Interaction, nous proposons ...\n",
       "148    516789  Notre métier, c'est l'emploi. Des milliers d'o...\n",
       "149   8519063  A votre écoute, nous avons pour objectif de vo...\n",
       "\n",
       "[150 rows x 2 columns]"
      ]
     },
     "execution_count": 4,
     "metadata": {},
     "output_type": "execute_result"
    }
   ],
   "source": [
    "df"
   ]
  },
  {
   "cell_type": "markdown",
   "metadata": {},
   "source": [
    "# Uniformisation de la ponctuation des offres"
   ]
  },
  {
   "cell_type": "code",
   "execution_count": 9,
   "metadata": {},
   "outputs": [],
   "source": [
    "# Fonction pour ajouter de la ponctuation si l'offre n'en a pas\n",
    "def correct_maj_ds_mot(text):\n",
    "    # Expression régulière pour trouver une majuscule non précédée par un espace ou une ponctuation\n",
    "    corrected_text = re.sub(r'(?<=[a-zéèêàùôûîï])(?=[A-Z])', '. ', text)\n",
    "    return corrected_text"
   ]
  },
  {
   "cell_type": "code",
   "execution_count": 10,
   "metadata": {},
   "outputs": [],
   "source": [
    "# Fonction pour uniformiser la ponctuation et la forme de chaque offre en amont de la segmentation\n",
    "# but : paragraphe clean avec ponctuation \n",
    "\n",
    "def clean_text(text):\n",
    "    text = correct_maj_ds_mot(text)\n",
    "\n",
    "    # Remplacer les caractères spécifiques (comme `¿`) par un espace ou les supprimer\n",
    "    text = text.replace('¿', '')\n",
    "    \n",
    "    # Remplacer les sauts de ligne au milieu des phrases par un espace\n",
    "    text = re.sub(r'\\n+', ' ', text)\n",
    "    \n",
    "    # Standardiser les espaces autour de la ponctuation\n",
    "    text = re.sub(r'\\s*([.,;:!?\\(\\)])\\s*', r'\\1 ', text)\n",
    "    \n",
    "    # Enlever les espaces multiples\n",
    "    text = re.sub(r'\\s+', ' ', text)\n",
    "    \n",
    "    # Enlever les espaces en début et fin de texte\n",
    "    text = text.strip()\n",
    "    \n",
    "    return text"
   ]
  },
  {
   "cell_type": "markdown",
   "metadata": {},
   "source": [
    "# Fonctions de segmentation des offres"
   ]
  },
  {
   "cell_type": "code",
   "execution_count": 11,
   "metadata": {},
   "outputs": [],
   "source": [
    "# Initialisation du modèle nlp de spacy : https://spacy.io/models/fr\n",
    "nlp = spacy.load(\"fr_dep_news_trf\") # modèle fr_core_news_sm"
   ]
  },
  {
   "cell_type": "code",
   "execution_count": 12,
   "metadata": {},
   "outputs": [],
   "source": [
    "# Fonction pour ajouter de la ponctuation si l'offre n'en a pas\n",
    "def correct_maj_ds_mot(text):\n",
    "    # Expression régulière pour trouver une majuscule non précédée par un espace ou une ponctuation\n",
    "    corrected_text = re.sub(r'(?<=[a-zéèêàùôûîï])(?=[A-Z])', '. ', text)\n",
    "    return corrected_text"
   ]
  },
  {
   "cell_type": "code",
   "execution_count": 13,
   "metadata": {},
   "outputs": [],
   "source": [
    "# Fonction pour uniformiser la ponctuation et la forme de chaque offre en amont de la segmentation\n",
    "# but : paragraphe clean avec ponctuation \n",
    "\n",
    "def clean_text(text):\n",
    "    text = correct_maj_ds_mot(text)\n",
    "    text = text.replace('¿', '')\n",
    "    text = re.sub(r'\\n+', ' ', text)\n",
    "    text = re.sub(r'\\s*([.,;:!?\\(\\)])\\s*', r'\\1 ', text)\n",
    "    text = re.sub(r'\\s+', ' ', text)\n",
    "    text = text.strip()\n",
    "    \n",
    "    return text"
   ]
  },
  {
   "cell_type": "code",
   "execution_count": 14,
   "metadata": {},
   "outputs": [],
   "source": [
    "# Fonction pour segmenter l'offre sur la base de la ligne\n",
    "def split_on_newlines(doc):\n",
    "    lines = []\n",
    "    for sent in doc.sents:\n",
    "        sent_text = re.sub(r'[.;:](?![.]{2})', '\\n', sent.text)\n",
    "        sent_text = sent_text.replace('),', ')\\n')\n",
    "        \n",
    "        # Nettoyage du texte pour enlever les caractères indésirables\n",
    "        sent_text = re.sub(r'[^\\w\\s\\'\\(\\)\\%\\+/]', ' ', sent_text)\n",
    "        \n",
    "        # Créer une variable doc pour appliquer NER et segmentation par verbes\n",
    "        doc_segment = nlp(sent_text)\n",
    "        \n",
    "        modified_segment = []\n",
    "        verb_count = 0\n",
    "        ignore_verbs = 0  # Compteur pour ignorer certains verbes\n",
    "        for i, token in enumerate(doc_segment):\n",
    "            if token.pos_ == 'VERB':\n",
    "                verb_count += 1\n",
    "                \n",
    "                # Vérifier si le verbe est utilisé comme adjectif ou participe présent\n",
    "                if token.tag_ in ['VPP', 'VPR', 'ADJ'] or token.dep_ in ['amod', 'acl']:\n",
    "                    ignore_verbs += 1\n",
    "                \n",
    "                if verb_count - ignore_verbs == 2:  # Segmentation si 2e verbe non ignoré\n",
    "                    # Vérifier s'il y a \"et\" entre les deux verbes\n",
    "                    if not (i > 1 and doc_segment[i-1].text.lower() == \"et\" and doc_segment[i-2].pos_ == 'VERB'):\n",
    "                        if i > 0 and doc_segment[i-1].text.endswith(\"'\"):\n",
    "                            # Ajouter le saut de ligne avant le token qui précède l'apostrophe\n",
    "                            modified_segment.insert(-1, '\\n')\n",
    "                        else:\n",
    "                            modified_segment.append('\\n')\n",
    "                    verb_count = 0  # Réinitialiser le compteur de verbes\n",
    "                    ignore_verbs = 0  # Réinitialiser le compteur des verbes ignorés\n",
    "            \n",
    "            # Ajouter la condition pour le caractère \"+\"\n",
    "            if token.text == \"+\":\n",
    "                modified_segment.append('\\n')\n",
    "            \n",
    "            modified_segment.append(token.text)\n",
    "        \n",
    "        # Joindre les tokens pour former la phrase segmentée\n",
    "        sent_text_final = ' '.join(modified_segment)\n",
    "    \n",
    "        # Séparation par des sauts de ligne simples\n",
    "        segments = sent_text_final.split('\\n')\n",
    "        for segment in segments:\n",
    "            segment = segment.strip()\n",
    "            if segment:\n",
    "                lines.append(segment)\n",
    "    \n",
    "    return lines"
   ]
  },
  {
   "cell_type": "code",
   "execution_count": 15,
   "metadata": {},
   "outputs": [],
   "source": [
    "# Fonction finale à appliquer sur une offre\n",
    "def lignes_segm(cellule):\n",
    "    cellule_clean = clean_text(cellule)\n",
    "    doc = nlp(cellule_clean)\n",
    "    return list(split_on_newlines(doc))"
   ]
  },
  {
   "cell_type": "markdown",
   "metadata": {},
   "source": [
    "# Essai sur 1 offre pour vérifier la segmentation"
   ]
  },
  {
   "cell_type": "code",
   "execution_count": 16,
   "metadata": {},
   "outputs": [
    {
     "name": "stdout",
     "output_type": "stream",
     "text": [
      "Recherche: Technicien Process (H/F)\n",
      "Rattaché au Coordinateur Développement Process Automatisés, vos missions sont les suivantes :\n",
      "    * Définir les besoins, réaliser les cahiers des charges, rechercher et consulter les fournisseurs, élaborer les budgets d'investissement,\n",
      "    * Réaliser ou suivre en réalisation les équipements,\n",
      "    * Travailler transversalement avec les Services « Recherche et Développement », « Industrialisation », « Qualité » et « Production »,\n",
      "    * Rechercher les meilleurs compromis coût/fonction/délai,\n",
      "    * Optimiser les équipements par l'analyse des rendements de machines et suggérer des propositions d'améliorations continues,\n",
      "    * Assurer de la conformité des matériels mis en production vis à vis de la directive machine en vigueur par l'application d'une procédure de réception sécurité,\n",
      "    * Transmettre un dossier technique complet au service maintenance,\n",
      "    * Former les techniciens de maintenance sur les équipements mis en place,\n",
      "    * Obtenir un accor...\n"
     ]
    }
   ],
   "source": [
    "indice_ligne = 50\n",
    "\n",
    "offre = df['descri_mission'][indice_ligne]\n",
    "print(offre)"
   ]
  },
  {
   "cell_type": "code",
   "execution_count": 17,
   "metadata": {},
   "outputs": [
    {
     "data": {
      "text/plain": [
       "['Recherche',\n",
       " 'Technicien Process ( H / F )',\n",
       " 'Rattaché au Coordinateur Développement Process Automatisés   vos missions sont les suivantes',\n",
       " 'Définir les besoins',\n",
       " \"réaliser les cahiers des charges   rechercher et consulter les fournisseurs   élaborer les budgets d' investissement\",\n",
       " 'Réaliser ou',\n",
       " 'suivre en réalisation les équipements',\n",
       " 'Travailler transversalement avec les Services    Recherche et Développement       Industrialisation       Qualité    et    Production',\n",
       " 'Rechercher les meilleurs compromis coût / fonction / délai',\n",
       " \"Optimiser les équipements par l' analyse des rendements de machines et\",\n",
       " \"suggérer des propositions d' améliorations continues\",\n",
       " \"Assurer de la conformité des matériels mis en production vis à vis de la directive machine en vigueur par l' application d' une procédure de réception sécurité\",\n",
       " 'Transmettre un dossier technique complet au service maintenance',\n",
       " 'Former les techniciens de maintenance sur les équipements mis en place',\n",
       " 'Obtenir un accor']"
      ]
     },
     "execution_count": 17,
     "metadata": {},
     "output_type": "execute_result"
    }
   ],
   "source": [
    "test = lignes_segm(offre)\n",
    "test"
   ]
  },
  {
   "cell_type": "markdown",
   "metadata": {},
   "source": [
    "# Appliquer la segmentation aux 150 offres"
   ]
  },
  {
   "cell_type": "code",
   "execution_count": 18,
   "metadata": {},
   "outputs": [],
   "source": [
    "def appliquer_lignes_segm(df):\n",
    "    all_lines = []\n",
    "    for _, row in df.iterrows():\n",
    "        description = row['descri_mission']\n",
    "        ref_offre = row['ref_offre']\n",
    "        doc = nlp(description)\n",
    "        lines = lignes_segm(doc.text)\n",
    "        for line in lines:\n",
    "            all_lines.append({'ref_offre': ref_offre, 'segment': line})\n",
    "    return pd.DataFrame(all_lines)"
   ]
  },
  {
   "cell_type": "code",
   "execution_count": 19,
   "metadata": {},
   "outputs": [],
   "source": [
    "resultat_df = appliquer_lignes_segm(df)"
   ]
  },
  {
   "cell_type": "code",
   "execution_count": 20,
   "metadata": {},
   "outputs": [
    {
     "data": {
      "text/html": [
       "<div>\n",
       "<style scoped>\n",
       "    .dataframe tbody tr th:only-of-type {\n",
       "        vertical-align: middle;\n",
       "    }\n",
       "\n",
       "    .dataframe tbody tr th {\n",
       "        vertical-align: top;\n",
       "    }\n",
       "\n",
       "    .dataframe thead th {\n",
       "        text-align: right;\n",
       "    }\n",
       "</style>\n",
       "<table border=\"1\" class=\"dataframe\">\n",
       "  <thead>\n",
       "    <tr style=\"text-align: right;\">\n",
       "      <th></th>\n",
       "      <th>ref_offre</th>\n",
       "      <th>segment</th>\n",
       "    </tr>\n",
       "  </thead>\n",
       "  <tbody>\n",
       "    <tr>\n",
       "      <th>0</th>\n",
       "      <td>2165625</td>\n",
       "      <td>Recherche</td>\n",
       "    </tr>\n",
       "    <tr>\n",
       "      <th>1</th>\n",
       "      <td>2165625</td>\n",
       "      <td>CHEF D' ÉQUIPE MAINTENANCE ( H / F )</td>\n",
       "    </tr>\n",
       "    <tr>\n",
       "      <th>2</th>\n",
       "      <td>2165625</td>\n",
       "      <td>My Premium Consulting est un cabinet de recrutement indépendant créé en 2018</td>\n",
       "    </tr>\n",
       "    <tr>\n",
       "      <th>3</th>\n",
       "      <td>2165625</td>\n",
       "      <td>Notre équipe de consultants est composée d' experts métiers ayant une solide expérience professionnelle dans le domaine industriel</td>\n",
       "    </tr>\n",
       "    <tr>\n",
       "      <th>4</th>\n",
       "      <td>2165625</td>\n",
       "      <td>Ils sont à l' écoute des besoins et des attentes de nos candidats afin de les accompagner au mieux dans leur projet professionnel</td>\n",
       "    </tr>\n",
       "    <tr>\n",
       "      <th>...</th>\n",
       "      <td>...</td>\n",
       "      <td>...</td>\n",
       "    </tr>\n",
       "    <tr>\n",
       "      <th>3552</th>\n",
       "      <td>8519063</td>\n",
       "      <td>Une possibilité d' acompte à la semaine</td>\n",
       "    </tr>\n",
       "    <tr>\n",
       "      <th>3553</th>\n",
       "      <td>8519063</td>\n",
       "      <td>Un CE ( billetterie   club vacances   chèques vacances</td>\n",
       "    </tr>\n",
       "    <tr>\n",
       "      <th>3554</th>\n",
       "      <td>8519063</td>\n",
       "      <td>)</td>\n",
       "    </tr>\n",
       "    <tr>\n",
       "      <th>3555</th>\n",
       "      <td>8519063</td>\n",
       "      <td>bénéficier du FASTT ( Aides et services dédiés ( mutuelle   logement   garde d' enfant   prêt d' utilitaires</td>\n",
       "    </tr>\n",
       "    <tr>\n",
       "      <th>3556</th>\n",
       "      <td>8519063</td>\n",
       "      <td>)</td>\n",
       "    </tr>\n",
       "  </tbody>\n",
       "</table>\n",
       "<p>3557 rows × 2 columns</p>\n",
       "</div>"
      ],
      "text/plain": [
       "     ref_offre  \\\n",
       "0      2165625   \n",
       "1      2165625   \n",
       "2      2165625   \n",
       "3      2165625   \n",
       "4      2165625   \n",
       "...        ...   \n",
       "3552   8519063   \n",
       "3553   8519063   \n",
       "3554   8519063   \n",
       "3555   8519063   \n",
       "3556   8519063   \n",
       "\n",
       "                                                                                                                                 segment  \n",
       "0                                                                                                                              Recherche  \n",
       "1                                                                                                   CHEF D' ÉQUIPE MAINTENANCE ( H / F )  \n",
       "2                                                           My Premium Consulting est un cabinet de recrutement indépendant créé en 2018  \n",
       "3     Notre équipe de consultants est composée d' experts métiers ayant une solide expérience professionnelle dans le domaine industriel  \n",
       "4      Ils sont à l' écoute des besoins et des attentes de nos candidats afin de les accompagner au mieux dans leur projet professionnel  \n",
       "...                                                                                                                                  ...  \n",
       "3552                                                                                             Une possibilité d' acompte à la semaine  \n",
       "3553                                                                              Un CE ( billetterie   club vacances   chèques vacances  \n",
       "3554                                                                                                                                   )  \n",
       "3555                        bénéficier du FASTT ( Aides et services dédiés ( mutuelle   logement   garde d' enfant   prêt d' utilitaires  \n",
       "3556                                                                                                                                   )  \n",
       "\n",
       "[3557 rows x 2 columns]"
      ]
     },
     "execution_count": 20,
     "metadata": {},
     "output_type": "execute_result"
    }
   ],
   "source": [
    "resultat_df"
   ]
  },
  {
   "cell_type": "code",
   "execution_count": null,
   "metadata": {},
   "outputs": [],
   "source": [
    "# Enregister le df en csv\n",
    "#resultat_df.to_csv('test_lignes_segm.csv', index=False)"
   ]
  }
 ],
 "metadata": {
  "kernelspec": {
   "display_name": "Python 3 (ipykernel)",
   "language": "python",
   "name": "python3"
  },
  "language_info": {
   "codemirror_mode": {
    "name": "ipython",
    "version": 3
   },
   "file_extension": ".py",
   "mimetype": "text/x-python",
   "name": "python",
   "nbconvert_exporter": "python",
   "pygments_lexer": "ipython3",
   "version": "3.11.5"
  }
 },
 "nbformat": 4,
 "nbformat_minor": 2
}
